{
 "cells": [
  {
   "cell_type": "code",
   "execution_count": 1,
   "id": "79894cad",
   "metadata": {},
   "outputs": [],
   "source": [
    "import numpy as np\n",
    "import pandas as pd\n",
    "import matplotlib.pyplot as plt"
   ]
  },
  {
   "cell_type": "code",
   "execution_count": 2,
   "id": "87e64a68",
   "metadata": {},
   "outputs": [],
   "source": [
    "X = np.array([[0, 0],\n",
    "              [0, 1], \n",
    "              [1, 0],\n",
    "              [1, 1]])\n",
    "\n",
    "y = np.array([[0],\n",
    "              [1],\n",
    "              [1], \n",
    "              [0]])"
   ]
  },
  {
   "cell_type": "code",
   "execution_count": 3,
   "id": "de3eb851",
   "metadata": {},
   "outputs": [],
   "source": [
    "def sigmoid(z):\n",
    "    return 1/(1 + np.exp(-z))"
   ]
  },
  {
   "cell_type": "code",
   "execution_count": 4,
   "id": "320c2df3",
   "metadata": {},
   "outputs": [],
   "source": [
    "def MSE(y_true, y_pred):\n",
    "    return np.mean((y_true - y_pred) ** 2)"
   ]
  },
  {
   "cell_type": "code",
   "execution_count": 5,
   "id": "983c18f0",
   "metadata": {},
   "outputs": [],
   "source": [
    "def dC_da(a, y_true):\n",
    "    return 2*(a- y_true)"
   ]
  },
  {
   "cell_type": "code",
   "execution_count": 6,
   "id": "10ea45e8",
   "metadata": {},
   "outputs": [],
   "source": [
    "def da_dz(z):\n",
    "    return sigmoid(z) * (1-sigmoid(z))"
   ]
  },
  {
   "cell_type": "code",
   "execution_count": 7,
   "id": "ca0ba7b1",
   "metadata": {},
   "outputs": [],
   "source": [
    "def xavier_normal(fan_in, fan_out):\n",
    "    std = np.sqrt(2.0 / (fan_in + fan_out))\n",
    "    return np.random.normal(0, std, (fan_out, fan_in)).T"
   ]
  },
  {
   "cell_type": "code",
   "execution_count": 8,
   "id": "6e0feaab",
   "metadata": {},
   "outputs": [],
   "source": [
    "class Layer:\n",
    "    def __init__(self, input_size: int, neuron_count: int):\n",
    "        self.W = xavier_normal(input_size, neuron_count)\n",
    "        self.b = np.zeros((1, neuron_count))\n",
    "        \n",
    "        self.z = None\n",
    "        self.inputs = None\n",
    "        self.activations = None\n",
    "        \n",
    "    def forward(self, X: np.ndarray):   \n",
    "        self.inputs = X\n",
    "        self.z = X @ self.W + self.b\n",
    "        a = sigmoid(self.z)\n",
    "        self.activations = a\n",
    "        return a\n",
    "    \n",
    "    def backward(self, delta, learning_rate):\n",
    "        dz = np.array([])\n",
    "\n",
    "        dz = delta * da_dz(self.z)\n",
    "        \n",
    "        dW = self.inputs.T @ dz\n",
    "        db = np.sum(dz, axis=0, keepdims=True)\n",
    "        \n",
    "        delta_prev = dz @ self.W.T\n",
    "        \n",
    "        self.W -= learning_rate * dW\n",
    "        self.b -= learning_rate * db\n",
    "        \n",
    "        return delta_prev\n",
    "    \n",
    "            \n",
    "        \n",
    "        \n",
    "        "
   ]
  },
  {
   "cell_type": "code",
   "execution_count": 9,
   "id": "c2049768",
   "metadata": {},
   "outputs": [
    {
     "data": {
      "text/plain": [
       "array([[0.5       , 0.5       , 0.5       ],\n",
       "       [0.30406162, 0.33202003, 0.54634973],\n",
       "       [0.48018138, 0.40963327, 0.6682946 ],\n",
       "       [0.28754308, 0.25644194, 0.70814971]])"
      ]
     },
     "execution_count": 9,
     "metadata": {},
     "output_type": "execute_result"
    }
   ],
   "source": [
    "layer = Layer(input_size=2, neuron_count=3)\n",
    "layer.forward(X)"
   ]
  },
  {
   "cell_type": "code",
   "execution_count": 10,
   "id": "6ac5a70e",
   "metadata": {},
   "outputs": [
    {
     "data": {
      "text/plain": [
       "np.float64(0.0011101072857388934)"
      ]
     },
     "execution_count": 10,
     "metadata": {},
     "output_type": "execute_result"
    }
   ],
   "source": [
    "from typing import List\n",
    "\n",
    "\n",
    "class Network:\n",
    "    def __init__(self, layers: List[Layer]):\n",
    "        self.layers = layers\n",
    "    \n",
    "    def forward(self, X: np.ndarray):\n",
    "        for layer in self.layers:\n",
    "            X = layer.forward(X)\n",
    "        return X\n",
    "\n",
    "    def backwards(self, y_true, learning_rate):\n",
    "        \n",
    "        y_pred = self.layers[-1].activations\n",
    "                \n",
    "        output_delta = (y_pred - y_true) * da_dz(self.layers[-1].z)\n",
    "        \n",
    "        current_delta = output_delta\n",
    "        \n",
    "        for layer in reversed(self.layers):\n",
    "            current_delta = layer.backward(current_delta, learning_rate)\n",
    "                    \n",
    "    def train(self, X, y, epochs, learning_rate):\n",
    "        loss = 0\n",
    "        for _ in range(epochs):\n",
    "\n",
    "            self.forward(X)\n",
    "            self.backwards(y, learning_rate)\n",
    "\n",
    "        y_pred = self.forward(X)\n",
    "            \n",
    "        loss = MSE(y, y_pred)\n",
    "\n",
    "        return loss\n",
    "            \n",
    "layer1 = Layer(input_size=2, neuron_count=2)\n",
    "layer2 = Layer(input_size=2, neuron_count=1)\n",
    "\n",
    "layers = [layer1, layer2]\n",
    "network = Network(layers)\n",
    "\n",
    "network.train(X, y, 50000, 1)"
   ]
  },
  {
   "cell_type": "code",
   "execution_count": 11,
   "id": "2966d23e",
   "metadata": {},
   "outputs": [],
   "source": [
    "from sklearn.datasets import load_iris\n",
    "\n",
    "iris = load_iris()"
   ]
  },
  {
   "cell_type": "code",
   "execution_count": 12,
   "id": "8b54ecbd",
   "metadata": {},
   "outputs": [],
   "source": [
    "iris_X = iris.data # Features (4 columns: sepal length/width, petal length/width)\n",
    "iris_y = iris.target # Labels (0=setosa, 1=versicolor, 2=virginica)"
   ]
  },
  {
   "cell_type": "code",
   "execution_count": 13,
   "id": "b3e4dc90",
   "metadata": {},
   "outputs": [],
   "source": [
    "from sklearn.preprocessing import OneHotEncoder\n",
    "encoder = OneHotEncoder(sparse_output=False)\n",
    "iris_y = encoder.fit_transform(iris_y.reshape(-1, 1))"
   ]
  },
  {
   "cell_type": "code",
   "execution_count": 14,
   "id": "5611804e",
   "metadata": {},
   "outputs": [
    {
     "data": {
      "text/plain": [
       "np.float64(0.004572954842015674)"
      ]
     },
     "execution_count": 14,
     "metadata": {},
     "output_type": "execute_result"
    }
   ],
   "source": [
    "iris_layer1 = Layer(input_size=4, neuron_count=8) \n",
    "iris_layer2 = Layer(input_size=8, neuron_count=3) \n",
    "\n",
    "\n",
    "iris_layers = [iris_layer1, iris_layer2]\n",
    "iris_network = Network(iris_layers)\n",
    "\n",
    "iris_network.train(iris_X, iris_y, 100000, 0.1)"
   ]
  }
 ],
 "metadata": {
  "kernelspec": {
   "display_name": "venv (3.13.7)",
   "language": "python",
   "name": "python3"
  },
  "language_info": {
   "codemirror_mode": {
    "name": "ipython",
    "version": 3
   },
   "file_extension": ".py",
   "mimetype": "text/x-python",
   "name": "python",
   "nbconvert_exporter": "python",
   "pygments_lexer": "ipython3",
   "version": "3.13.7"
  }
 },
 "nbformat": 4,
 "nbformat_minor": 5
}
